{
 "cells": [
  {
   "cell_type": "code",
   "execution_count": 1,
   "metadata": {},
   "outputs": [
    {
     "ename": "",
     "evalue": "",
     "output_type": "error",
     "traceback": [
      "\u001b[1;31mCanceled future for execute_request message before replies were done"
     ]
    },
    {
     "ename": "",
     "evalue": "",
     "output_type": "error",
     "traceback": [
      "\u001b[1;31mThe Kernel crashed while executing code in the the current cell or a previous cell. Please review the code in the cell(s) to identify a possible cause of the failure. Click <a href='https://aka.ms/vscodeJupyterKernelCrash'>here</a> for more info. View Jupyter <a href='command:jupyter.viewOutput'>log</a> for further details."
     ]
    }
   ],
   "source": [
    "from osgeo import gdal\n",
    "from osgeo import ogr\n",
    "from osgeo import osr\n",
    "\n",
    "def import_data_gjson(path):\n",
    "    \n",
    "    gjson_ds = ogr.Open(path)\n",
    "    gjson_layer = gjson_ds.GetLayer()\n",
    "    return gjson_layer\n",
    "breakpoint\n",
    "\n",
    "fp = r\"C:\\Users\\Matti Katajisto\\OneDrive - Aalto University\\GIS-4030 GIS-development\\Repo\\GIS-development-course\\test_data\\rovaniemi_buildings\\rovaniemi_buildings.geojson\"\n",
    "out_raster = r\"C:\\Users\\Matti Katajisto\\OneDrive - Aalto University\\GIS-4030 GIS-development\\Repo\\GIS-development-course\\test_data\\rovaniemi_buildings\"\n",
    "pixel_size = 0.0001\n",
    "rasterize_attribute = \"dataSource\"\n",
    "\n",
    "gjson_layer = import_data_gjson(fp)\n",
    "\n",
    "# Get the extent and spatial reference of the input layer\n",
    "layer_extent = gjson_layer.GetExtent()\n",
    "layer_srs = osr.SpatialReference()\n",
    "layer_srs.ImportFromEPSG(3067)\n"
   ]
  },
  {
   "cell_type": "code",
   "execution_count": null,
   "metadata": {},
   "outputs": [],
   "source": [
    "\n",
    "\n",
    "# Calculate the width and height of the output raster based on the extent and pixel size\n",
    "width = int((layer_extent[1] - layer_extent[0]) / pixel_size)\n",
    "height = int((layer_extent[3] - layer_extent[2]) / pixel_size)\n",
    "\n",
    "# Create a new GeoTIFF file with the desired size and extent\n",
    "driver = gdal.GetDriverByName(\"GTiff\")\n",
    "output_ds = driver.Create(out_raster, width, height, 1, gdal.GDT_Byte)\n",
    "output_ds.SetGeoTransform((layer_extent[0], pixel_size, 0, layer_extent[3], 0, -pixel_size))\n",
    "output_ds.SetProjection(layer_srs.ExportToWkt())\n",
    "\n",
    "# Set the rasterization options\n",
    "options = gdal.RasterizeOptions(attribute=rasterize_attribute, burnValues=[1])\n",
    "\n",
    "# Rasterize the input layer to the output raster\n",
    "gdal.RasterizeLayer(output_ds, [1], geojson_layer, options=options)\n",
    "\n",
    "# Close the files\n",
    "geojson_ds = None\n",
    "output_ds = None"
   ]
  },
  {
   "cell_type": "code",
   "execution_count": null,
   "metadata": {},
   "outputs": [],
   "source": []
  }
 ],
 "metadata": {
  "kernelspec": {
   "display_name": "Python 3",
   "language": "python",
   "name": "python3"
  },
  "language_info": {
   "codemirror_mode": {
    "name": "ipython",
    "version": 3
   },
   "file_extension": ".py",
   "mimetype": "text/x-python",
   "name": "python",
   "nbconvert_exporter": "python",
   "pygments_lexer": "ipython3",
   "version": "3.10.10"
  },
  "orig_nbformat": 4
 },
 "nbformat": 4,
 "nbformat_minor": 2
}
